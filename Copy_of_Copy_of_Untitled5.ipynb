{
  "nbformat": 4,
  "nbformat_minor": 0,
  "metadata": {
    "colab": {
      "name": "Copy of Copy of Untitled5.ipynb",
      "version": "0.3.2",
      "provenance": [],
      "collapsed_sections": [],
      "include_colab_link": true
    },
    "kernelspec": {
      "name": "python3",
      "display_name": "Python 3"
    },
    "accelerator": "GPU"
  },
  "cells": [
    {
      "cell_type": "markdown",
      "metadata": {
        "id": "view-in-github",
        "colab_type": "text"
      },
      "source": [
        "[View in Colaboratory](https://colab.research.google.com/github/rajagopalmotivate/FullyConvNetwork/blob/master/Copy_of_Copy_of_Untitled5.ipynb)"
      ]
    },
    {
      "metadata": {
        "id": "N68XOKW4iru2",
        "colab_type": "code",
        "colab": {}
      },
      "cell_type": "code",
      "source": [
        ""
      ],
      "execution_count": 0,
      "outputs": []
    },
    {
      "metadata": {
        "id": "rRtkRxHziteg",
        "colab_type": "code",
        "colab": {
          "base_uri": "https://localhost:8080/",
          "height": 2977
        },
        "outputId": "4c2f7213-8048-4ddd-ec02-d3da2fe5f3f8"
      },
      "cell_type": "code",
      "source": [
        "from keras import  layers\n",
        "from keras import models\n",
        "from keras.datasets import mnist\n",
        "from keras import  utils\n",
        "import matplotlib.pyplot as plt\n",
        "\n",
        "model = models.Sequential()\n",
        "#layer1c = layers.Conv2D(32, (5,5), activation='relu', input_shape=(28,28,1) )\n",
        "layer1c = layers.Conv2D(32, (5,5), activation='relu'  , input_shape=(None,None,1))\n",
        "\n",
        "layer1m = layers.MaxPooling2D(pool_size=(2,2), strides=2)\n",
        "#layer2c = layers.Conv2D(64, (3,3), activation='relu')\n",
        "#layer2m = layers.MaxPooling2D(2,2)\n",
        "\n",
        "model.add(layer1c)\n",
        "model.add(layer1m)\n",
        "#model.add(layer2c)\n",
        "#model.add(layer2m)\n",
        "\n",
        "layerFlatten = layers.Flatten()\n",
        "layerd1 = layers.Dense(64, activation='relu')\n",
        "layerd2 = layers.Dense(10, activation='softmax' )\n",
        "\n",
        "layerd1FULLYCON =  layers.Conv2D(64, (12,12), activation='relu' )\n",
        "layerd2FULLYCON =  layers.Conv2D(10, (1,1), activation='softmax' )\n",
        "\n",
        "\n",
        "#layerd1 = layers.Conv2D(64, (3,3), activation='relu')\n",
        "#layerd2 = layers.Dense(10, activation='softmax' )\n",
        "\n",
        "Archi='FULLYCONNECTED'\n",
        "\n",
        "if(Archi=='FULLYCONNECTED'):\n",
        "    model.add( layerd1FULLYCON )\n",
        "    model.add( layerd2FULLYCON )\n",
        "else:\n",
        "    model.add( layerFlatten )\n",
        "    model.add( layerd1 )\n",
        "    model.add( layerd2 )\n",
        "\n",
        "print(model.summary())\n",
        "\n",
        "(trainX, trainY), (testX, testY) = mnist.load_data()\n",
        "\n",
        "print(\"No of Training samples = \" + str(len(trainX)) )\n",
        "print(\"No of Test samples = \" + str(len(testX)) )\n",
        "\n",
        "trainSetSize = len(trainX)\n",
        "testSetSize = len(testX)\n",
        "\n",
        "trainX = trainX[0:trainSetSize]\n",
        "trainY = trainY[0:trainSetSize]\n",
        "\n",
        "testX = testX[0:testSetSize]\n",
        "testY = testY[0:testSetSize]\n",
        "\n",
        "\n",
        "trainX = trainX.astype('float') * 1 /255\n",
        "testX = testX.astype('float') * 1 /255\n",
        "\n",
        "print( \"Shape of trainX = \" + str(trainX.shape) )\n",
        "\n",
        "\n",
        "trainXready = trainX.reshape((trainSetSize, 28, 28, 1))\n",
        "testXready = testX.reshape((testSetSize, 28, 28, 1))\n",
        "\n",
        "print( \"Shape of trainXready = \" + str(trainXready.shape) )\n",
        "\n",
        "\n",
        "trainYready = utils.to_categorical(trainY)\n",
        "testYready = utils.to_categorical(testY)\n",
        "\n",
        "trainYreadyTENSOR = trainYready.reshape(60000, 1, 1, 10)\n",
        "testYreadyTENSOR = testYready.reshape(10000, 1, 1, 10)\n",
        "\n",
        "\n",
        "print(' a sample from trainY:' + str(trainY[0]))\n",
        "print(' a sample from trainYready:' + str(trainYready[0]))\n",
        "print(' shape of  trainX[o]:' + str((trainX[0]).shape))\n",
        "print(' shape of  trainYreadyTENSOR[o]:' + str((trainYreadyTENSOR[0]).shape))\n",
        "\n",
        "print(' a sample from trainYreadyTENSOR:' + str(trainYreadyTENSOR[0]))\n",
        "\n",
        "print(' a sample from trainX:' + str(trainX[0]))\n",
        "\n",
        "\n",
        "\n",
        "print( \"Shape of trainY = \" + str(trainY.shape) )\n",
        "\n",
        "print( \"Shape of trainYready = \" + str(trainYready.shape) )\n",
        "print( \"Shape of trainYreadyTENSOR = \" + str(trainYreadyTENSOR.shape) )\n",
        "\n",
        "\n",
        "model.compile( optimizer='rmsprop', loss='categorical_crossentropy', metrics=['accuracy'] )\n",
        "\n",
        "# batchsize 32, epoch 20, Test Accracy \n",
        "# batchsize 64, epoch 5 , Test Accuracy 99.16%\n",
        "\n",
        "model.fit(trainXready, trainYreadyTENSOR, batch_size=32, epochs=2)\n",
        "\n",
        "testLoss, testAccuracy = model.evaluate(testXready, testYreadyTENSOR)\n",
        "\n",
        "print(\"Test Accuracy : \" + str(testAccuracy) )\n",
        "\n",
        "\n"
      ],
      "execution_count": 1,
      "outputs": [
        {
          "output_type": "stream",
          "text": [
            "Using TensorFlow backend.\n"
          ],
          "name": "stderr"
        },
        {
          "output_type": "stream",
          "text": [
            "_________________________________________________________________\n",
            "Layer (type)                 Output Shape              Param #   \n",
            "=================================================================\n",
            "conv2d_1 (Conv2D)            (None, None, None, 32)    832       \n",
            "_________________________________________________________________\n",
            "max_pooling2d_1 (MaxPooling2 (None, None, None, 32)    0         \n",
            "_________________________________________________________________\n",
            "conv2d_2 (Conv2D)            (None, None, None, 64)    294976    \n",
            "_________________________________________________________________\n",
            "conv2d_3 (Conv2D)            (None, None, None, 10)    650       \n",
            "=================================================================\n",
            "Total params: 296,458\n",
            "Trainable params: 296,458\n",
            "Non-trainable params: 0\n",
            "_________________________________________________________________\n",
            "None\n",
            "Downloading data from https://s3.amazonaws.com/img-datasets/mnist.npz\n",
            "11493376/11490434 [==============================] - 0s 0us/step\n",
            "No of Training samples = 60000\n",
            "No of Test samples = 10000\n",
            "Shape of trainX = (60000, 28, 28)\n",
            "Shape of trainXready = (60000, 28, 28, 1)\n",
            " a sample from trainY:5\n",
            " a sample from trainYready:[0. 0. 0. 0. 0. 1. 0. 0. 0. 0.]\n",
            " shape of  trainX[o]:(28, 28)\n",
            " shape of  trainYreadyTENSOR[o]:(1, 1, 10)\n",
            " a sample from trainYreadyTENSOR:[[[0. 0. 0. 0. 0. 1. 0. 0. 0. 0.]]]\n",
            " a sample from trainX:[[0.         0.         0.         0.         0.         0.\n",
            "  0.         0.         0.         0.         0.         0.\n",
            "  0.         0.         0.         0.         0.         0.\n",
            "  0.         0.         0.         0.         0.         0.\n",
            "  0.         0.         0.         0.        ]\n",
            " [0.         0.         0.         0.         0.         0.\n",
            "  0.         0.         0.         0.         0.         0.\n",
            "  0.         0.         0.         0.         0.         0.\n",
            "  0.         0.         0.         0.         0.         0.\n",
            "  0.         0.         0.         0.        ]\n",
            " [0.         0.         0.         0.         0.         0.\n",
            "  0.         0.         0.         0.         0.         0.\n",
            "  0.         0.         0.         0.         0.         0.\n",
            "  0.         0.         0.         0.         0.         0.\n",
            "  0.         0.         0.         0.        ]\n",
            " [0.         0.         0.         0.         0.         0.\n",
            "  0.         0.         0.         0.         0.         0.\n",
            "  0.         0.         0.         0.         0.         0.\n",
            "  0.         0.         0.         0.         0.         0.\n",
            "  0.         0.         0.         0.        ]\n",
            " [0.         0.         0.         0.         0.         0.\n",
            "  0.         0.         0.         0.         0.         0.\n",
            "  0.         0.         0.         0.         0.         0.\n",
            "  0.         0.         0.         0.         0.         0.\n",
            "  0.         0.         0.         0.        ]\n",
            " [0.         0.         0.         0.         0.         0.\n",
            "  0.         0.         0.         0.         0.         0.\n",
            "  0.01176471 0.07058824 0.07058824 0.07058824 0.49411765 0.53333333\n",
            "  0.68627451 0.10196078 0.65098039 1.         0.96862745 0.49803922\n",
            "  0.         0.         0.         0.        ]\n",
            " [0.         0.         0.         0.         0.         0.\n",
            "  0.         0.         0.11764706 0.14117647 0.36862745 0.60392157\n",
            "  0.66666667 0.99215686 0.99215686 0.99215686 0.99215686 0.99215686\n",
            "  0.88235294 0.6745098  0.99215686 0.94901961 0.76470588 0.25098039\n",
            "  0.         0.         0.         0.        ]\n",
            " [0.         0.         0.         0.         0.         0.\n",
            "  0.         0.19215686 0.93333333 0.99215686 0.99215686 0.99215686\n",
            "  0.99215686 0.99215686 0.99215686 0.99215686 0.99215686 0.98431373\n",
            "  0.36470588 0.32156863 0.32156863 0.21960784 0.15294118 0.\n",
            "  0.         0.         0.         0.        ]\n",
            " [0.         0.         0.         0.         0.         0.\n",
            "  0.         0.07058824 0.85882353 0.99215686 0.99215686 0.99215686\n",
            "  0.99215686 0.99215686 0.77647059 0.71372549 0.96862745 0.94509804\n",
            "  0.         0.         0.         0.         0.         0.\n",
            "  0.         0.         0.         0.        ]\n",
            " [0.         0.         0.         0.         0.         0.\n",
            "  0.         0.         0.31372549 0.61176471 0.41960784 0.99215686\n",
            "  0.99215686 0.80392157 0.04313725 0.         0.16862745 0.60392157\n",
            "  0.         0.         0.         0.         0.         0.\n",
            "  0.         0.         0.         0.        ]\n",
            " [0.         0.         0.         0.         0.         0.\n",
            "  0.         0.         0.         0.05490196 0.00392157 0.60392157\n",
            "  0.99215686 0.35294118 0.         0.         0.         0.\n",
            "  0.         0.         0.         0.         0.         0.\n",
            "  0.         0.         0.         0.        ]\n",
            " [0.         0.         0.         0.         0.         0.\n",
            "  0.         0.         0.         0.         0.         0.54509804\n",
            "  0.99215686 0.74509804 0.00784314 0.         0.         0.\n",
            "  0.         0.         0.         0.         0.         0.\n",
            "  0.         0.         0.         0.        ]\n",
            " [0.         0.         0.         0.         0.         0.\n",
            "  0.         0.         0.         0.         0.         0.04313725\n",
            "  0.74509804 0.99215686 0.2745098  0.         0.         0.\n",
            "  0.         0.         0.         0.         0.         0.\n",
            "  0.         0.         0.         0.        ]\n",
            " [0.         0.         0.         0.         0.         0.\n",
            "  0.         0.         0.         0.         0.         0.\n",
            "  0.1372549  0.94509804 0.88235294 0.62745098 0.42352941 0.00392157\n",
            "  0.         0.         0.         0.         0.         0.\n",
            "  0.         0.         0.         0.        ]\n",
            " [0.         0.         0.         0.         0.         0.\n",
            "  0.         0.         0.         0.         0.         0.\n",
            "  0.         0.31764706 0.94117647 0.99215686 0.99215686 0.46666667\n",
            "  0.09803922 0.         0.         0.         0.         0.\n",
            "  0.         0.         0.         0.        ]\n",
            " [0.         0.         0.         0.         0.         0.\n",
            "  0.         0.         0.         0.         0.         0.\n",
            "  0.         0.         0.17647059 0.72941176 0.99215686 0.99215686\n",
            "  0.58823529 0.10588235 0.         0.         0.         0.\n",
            "  0.         0.         0.         0.        ]\n",
            " [0.         0.         0.         0.         0.         0.\n",
            "  0.         0.         0.         0.         0.         0.\n",
            "  0.         0.         0.         0.0627451  0.36470588 0.98823529\n",
            "  0.99215686 0.73333333 0.         0.         0.         0.\n",
            "  0.         0.         0.         0.        ]\n",
            " [0.         0.         0.         0.         0.         0.\n",
            "  0.         0.         0.         0.         0.         0.\n",
            "  0.         0.         0.         0.         0.         0.97647059\n",
            "  0.99215686 0.97647059 0.25098039 0.         0.         0.\n",
            "  0.         0.         0.         0.        ]\n",
            " [0.         0.         0.         0.         0.         0.\n",
            "  0.         0.         0.         0.         0.         0.\n",
            "  0.         0.         0.18039216 0.50980392 0.71764706 0.99215686\n",
            "  0.99215686 0.81176471 0.00784314 0.         0.         0.\n",
            "  0.         0.         0.         0.        ]\n",
            " [0.         0.         0.         0.         0.         0.\n",
            "  0.         0.         0.         0.         0.         0.\n",
            "  0.15294118 0.58039216 0.89803922 0.99215686 0.99215686 0.99215686\n",
            "  0.98039216 0.71372549 0.         0.         0.         0.\n",
            "  0.         0.         0.         0.        ]\n",
            " [0.         0.         0.         0.         0.         0.\n",
            "  0.         0.         0.         0.         0.09411765 0.44705882\n",
            "  0.86666667 0.99215686 0.99215686 0.99215686 0.99215686 0.78823529\n",
            "  0.30588235 0.         0.         0.         0.         0.\n",
            "  0.         0.         0.         0.        ]\n",
            " [0.         0.         0.         0.         0.         0.\n",
            "  0.         0.         0.09019608 0.25882353 0.83529412 0.99215686\n",
            "  0.99215686 0.99215686 0.99215686 0.77647059 0.31764706 0.00784314\n",
            "  0.         0.         0.         0.         0.         0.\n",
            "  0.         0.         0.         0.        ]\n",
            " [0.         0.         0.         0.         0.         0.\n",
            "  0.07058824 0.67058824 0.85882353 0.99215686 0.99215686 0.99215686\n",
            "  0.99215686 0.76470588 0.31372549 0.03529412 0.         0.\n",
            "  0.         0.         0.         0.         0.         0.\n",
            "  0.         0.         0.         0.        ]\n",
            " [0.         0.         0.         0.         0.21568627 0.6745098\n",
            "  0.88627451 0.99215686 0.99215686 0.99215686 0.99215686 0.95686275\n",
            "  0.52156863 0.04313725 0.         0.         0.         0.\n",
            "  0.         0.         0.         0.         0.         0.\n",
            "  0.         0.         0.         0.        ]\n",
            " [0.         0.         0.         0.         0.53333333 0.99215686\n",
            "  0.99215686 0.99215686 0.83137255 0.52941176 0.51764706 0.0627451\n",
            "  0.         0.         0.         0.         0.         0.\n",
            "  0.         0.         0.         0.         0.         0.\n",
            "  0.         0.         0.         0.        ]\n",
            " [0.         0.         0.         0.         0.         0.\n",
            "  0.         0.         0.         0.         0.         0.\n",
            "  0.         0.         0.         0.         0.         0.\n",
            "  0.         0.         0.         0.         0.         0.\n",
            "  0.         0.         0.         0.        ]\n",
            " [0.         0.         0.         0.         0.         0.\n",
            "  0.         0.         0.         0.         0.         0.\n",
            "  0.         0.         0.         0.         0.         0.\n",
            "  0.         0.         0.         0.         0.         0.\n",
            "  0.         0.         0.         0.        ]\n",
            " [0.         0.         0.         0.         0.         0.\n",
            "  0.         0.         0.         0.         0.         0.\n",
            "  0.         0.         0.         0.         0.         0.\n",
            "  0.         0.         0.         0.         0.         0.\n",
            "  0.         0.         0.         0.        ]]\n",
            "Shape of trainY = (60000,)\n",
            "Shape of trainYready = (60000, 10)\n",
            "Shape of trainYreadyTENSOR = (60000, 1, 1, 10)\n",
            "Epoch 1/2\n",
            "60000/60000 [==============================] - 17s 288us/step - loss: 0.1395 - acc: 0.9576\n",
            "Epoch 2/2\n",
            "60000/60000 [==============================] - 16s 267us/step - loss: 0.0507 - acc: 0.9849\n",
            "10000/10000 [==============================] - 1s 86us/step\n",
            "Test Accuracy : 0.9864\n"
          ],
          "name": "stdout"
        }
      ]
    },
    {
      "metadata": {
        "id": "UJ1-RIQ4iuQR",
        "colab_type": "code",
        "colab": {
          "base_uri": "https://localhost:8080/",
          "height": 561
        },
        "outputId": "685833d5-ad8c-41c6-f907-68821cdcdd5a"
      },
      "cell_type": "code",
      "source": [
        "randomimage = 531\n",
        "\n",
        "\n",
        "oneimage = testXready[randomimage]\n",
        "oneimagePredictformat = oneimage.reshape(1, 28, 28, 1)\n",
        "\n",
        "\n",
        "print('shape of oneimage = ' + str(oneimage.shape))\n",
        "print('shape of oneimagePredictformat = ' + str(oneimagePredictformat.shape))\n",
        "\n",
        "\n",
        "ans = model.predict(testXready[randomimage:randomimage+1])\n",
        "\n",
        "print('shape of ans = ' + str(ans.shape))\n",
        "\n",
        "ans2 = model.predict(oneimagePredictformat)\n",
        "\n",
        "print('shape of ans2 = ' + str(ans2.shape))\n",
        "\n",
        "\n",
        "ansargmax = ans.argmax()\n",
        "\n",
        "ans = ans[0][0][0]\n",
        "\n",
        "print('ans = ' + str(ans))\n",
        "\n",
        "ans = ans.round(2)\n",
        "\n",
        "ansplot = ans.reshape(1,10)\n",
        "\n",
        "plt.imshow(ansplot)\n",
        "plt.show()\n",
        "\n",
        "print('ans = ' + str(ans))\n",
        "\n",
        "\n",
        "print('ansargmax = ' + str(ansargmax))\n",
        "\n",
        "\n",
        "\n",
        "\n",
        "sampleimage1Dvector = testXready[randomimage]\n",
        "sampleimage1Dvector = sampleimage1Dvector.copy()\n",
        "sampleimage = sampleimage1Dvector.reshape(28,28)\n",
        "plt.imshow(sampleimage)\n",
        "plt.show()\n",
        "\n"
      ],
      "execution_count": 2,
      "outputs": [
        {
          "output_type": "stream",
          "text": [
            "shape of oneimage = (28, 28, 1)\n",
            "shape of oneimagePredictformat = (1, 28, 28, 1)\n",
            "shape of ans = (1, 1, 1, 10)\n",
            "shape of ans2 = (1, 1, 1, 10)\n",
            "ans = [1.3072110e-08 1.0855219e-08 1.2826897e-05 9.9997270e-01 2.3446313e-08\n",
            " 2.0315413e-06 1.0153135e-05 3.0761985e-08 1.3698449e-06 7.5385987e-07]\n"
          ],
          "name": "stdout"
        },
        {
          "output_type": "display_data",
          "data": {
            "image/png": "[encoded data removed]",
            "text/plain": [
              "<matplotlib.figure.Figure at 0x7f61a9019eb8>"
            ]
          },
          "metadata": {
            "tags": []
          }
        },
        {
          "output_type": "stream",
          "text": [
            "ans = [0. 0. 0. 1. 0. 0. 0. 0. 0. 0.]\n",
            "ansargmax = 3\n"
          ],
          "name": "stdout"
        },
        {
          "output_type": "display_data",
          "data": {
            "image/png": "[encoded data removed]",
            "text/plain": [
              "<matplotlib.figure.Figure at 0x7f61a902b780>"
            ]
          },
          "metadata": {
            "tags": []
          }
        }
      ]
    },
    {
      "metadata": {
        "id": "Ggwa_s5jxNr3",
        "colab_type": "code",
        "colab": {}
      },
      "cell_type": "code",
      "source": [
        ""
      ],
      "execution_count": 0,
      "outputs": []
    },
    {
      "metadata": {
        "id": "LRY72ndAJpvy",
        "colab_type": "code",
        "colab": {}
      },
      "cell_type": "code",
      "source": [
        ""
      ],
      "execution_count": 0,
      "outputs": []
    },
    {
      "metadata": {
        "id": "ayfHXpb5jjK4",
        "colab_type": "code",
        "colab": {
          "base_uri": "https://localhost:8080/",
          "height": 1325
        },
        "outputId": "62e96263-fd5e-4383-a146-37e18625f84b"
      },
      "cell_type": "code",
      "source": [
        "import numpy as np\n",
        "\n",
        "asampleimage= testXready[99]\n",
        "print('shape of asampleimage = ' + str(asampleimage.shape))\n",
        "\n",
        "asampleimageBIG = np.zeros((40, 40, 1))\n",
        "asampleimageBIG[0:28, 0:28] = asampleimage\n",
        "\n",
        "\n",
        "asampleimageBIG = asampleimageBIG.reshape(1, 40, 40, 1)\n",
        "\n",
        "NandriJesusans = model.predict(asampleimageBIG)\n",
        "NandriJesusans = NandriJesusans.round()\n",
        "\n",
        "print('shape of NandriJesusans = ' + str(NandriJesusans.shape))\n",
        "\n",
        "\n",
        "ansargmax = NandriJesusans.argmax(axis=3)\n",
        "print('shape of ansargmax = ' + str(ansargmax.shape))\n",
        "\n",
        "print(' ansargmax = ' )\n",
        "print(ansargmax)\n",
        "\n",
        "matched = ansargmax == 9\n",
        "\n",
        "\n",
        "print(' matched = ' )\n",
        "print(matched)\n",
        "\n",
        "reultmap = ansargmax.reshape(7,7)\n",
        "plt.imshow(reultmap)\n",
        "plt.show()\n",
        "\n",
        "reultmap2 = matched.reshape(7,7)\n",
        "plt.imshow(reultmap2)\n",
        "plt.show()\n",
        "\n",
        "\n",
        "asampleimageBIGshow = asampleimageBIG.reshape(40,40)\n",
        "plt.imshow(asampleimageBIGshow)\n",
        "plt.show()"
      ],
      "execution_count": 3,
      "outputs": [
        {
          "output_type": "stream",
          "text": [
            "shape of asampleimage = (28, 28, 1)\n",
            "shape of NandriJesusans = (1, 7, 7, 10)\n",
            "shape of ansargmax = (1, 7, 7)\n",
            " ansargmax = \n",
            "[[[9 9 7 7 7 7 7]\n",
            "  [9 9 7 7 7 7 7]\n",
            "  [0 2 2 0 7 7 4]\n",
            "  [7 1 1 1 7 4 4]\n",
            "  [7 7 1 1 4 4 6]\n",
            "  [7 3 3 0 4 4 4]\n",
            "  [2 2 3 1 4 4 4]]]\n",
            " matched = \n",
            "[[[ True  True False False False False False]\n",
            "  [ True  True False False False False False]\n",
            "  [False False False False False False False]\n",
            "  [False False False False False False False]\n",
            "  [False False False False False False False]\n",
            "  [False False False False False False False]\n",
            "  [False False False False False False False]]]\n"
          ],
          "name": "stdout"
        },
        {
          "output_type": "display_data",
          "data": {
            "image/png": "[encoded data removed]",
            "text/plain": [
              "<matplotlib.figure.Figure at 0x7f62003f7160>"
            ]
          },
          "metadata": {
            "tags": []
          }
        },
        {
          "output_type": "display_data",
          "data": {
            "image/png": "[encoded data removed]",
            "text/plain": [
              "<matplotlib.figure.Figure at 0x7f6221d82550>"
            ]
          },
          "metadata": {
            "tags": []
          }
        },
        {
          "output_type": "display_data",
          "data": {
            "image/png": "[encoded data removed]",
            "text/plain": [
              "<matplotlib.figure.Figure at 0x7f61a6f65048>"
            ]
          },
          "metadata": {
            "tags": []
          }
        }
      ]
    },
    {
      "metadata": {
        "id": "xWFAKPeDkHH-",
        "colab_type": "code",
        "colab": {
          "base_uri": "https://localhost:8080/",
          "height": 865
        },
        "outputId": "e9d29fe9-5cac-40fa-c78c-2c1195dd19d6"
      },
      "cell_type": "code",
      "source": [
        "\n",
        "asampleimage= testXready[7]\n",
        "print('shape of asampleimage = ' + str(asampleimage.shape))\n",
        "\n",
        "asampleimageBIG = np.zeros((121, 121, 1))\n",
        "asampleimageBIG[0:28, 0:28] = asampleimage\n",
        "\n",
        "\n",
        "asampleimageBIG = asampleimageBIG.reshape(1, 121, 121, 1)\n",
        "\n",
        "NandriJesusans = model.predict(asampleimageBIG)\n",
        "NandriJesusans = NandriJesusans.round()\n",
        "\n",
        "print('shape of NandriJesusans = ' + str(NandriJesusans.shape))\n",
        "\n",
        "\n",
        "ansargmax = NandriJesusans.argmax(axis=3)\n",
        "\n",
        "print('shape of ansargmax = ' + str(ansargmax.shape))\n",
        "\n",
        "\n",
        "\n",
        "print(' ansargmax = ' )\n",
        "print(ansargmax)\n",
        "\n",
        "\n",
        "\n",
        "reultmap = ansargmax.reshape(47,47)\n",
        "plt.imshow(reultmap)\n",
        "plt.show()\n",
        "\n",
        "asampleimageBIGshow = asampleimageBIG.reshape(121,121)\n",
        "plt.imshow(asampleimageBIGshow)\n",
        "plt.show()"
      ],
      "execution_count": 4,
      "outputs": [
        {
          "output_type": "stream",
          "text": [
            "shape of asampleimage = (28, 28, 1)\n",
            "shape of NandriJesusans = (1, 47, 47, 10)\n",
            "shape of ansargmax = (1, 47, 47)\n",
            " ansargmax = \n",
            "[[[9 9 4 ... 0 0 0]\n",
            "  [9 9 4 ... 0 0 0]\n",
            "  [0 7 1 ... 0 0 0]\n",
            "  ...\n",
            "  [0 0 0 ... 0 0 0]\n",
            "  [0 0 0 ... 0 0 0]\n",
            "  [0 0 0 ... 0 0 0]]]\n"
          ],
          "name": "stdout"
        },
        {
          "output_type": "display_data",
          "data": {
            "image/png": "[encoded data removed]",
            "text/plain": [
              "<matplotlib.figure.Figure at 0x7f620038c320>"
            ]
          },
          "metadata": {
            "tags": []
          }
        },
        {
          "output_type": "display_data",
          "data": {
            "image/png": "[encoded data removed]",
            "text/plain": [
              "<matplotlib.figure.Figure at 0x7f61a6f5c978>"
            ]
          },
          "metadata": {
            "tags": []
          }
        }
      ]
    },
    {
      "metadata": {
        "id": "G_aAvr_4k2EK",
        "colab_type": "code",
        "colab": {
          "base_uri": "https://localhost:8080/",
          "height": 865
        },
        "outputId": "02ba8da4-a189-45ad-881a-d0d2911c604e"
      },
      "cell_type": "code",
      "source": [
        "\n",
        "asampleimage= testXready[7]\n",
        "print('shape of asampleimage = ' + str(asampleimage.shape))\n",
        "\n",
        "asampleimageBIG = np.zeros((121, 121, 1))\n",
        "asampleimageBIG[0:28, 0:28] = asampleimage\n",
        "\n",
        "\n",
        "asampleimageBIG = asampleimageBIG.reshape(1, 121, 121, 1)\n",
        "\n",
        "NandriJesusans = model.predict(asampleimageBIG)\n",
        "NandriJesusans = NandriJesusans.round()\n",
        "\n",
        "print('shape of NandriJesusans = ' + str(NandriJesusans.shape))\n",
        "\n",
        "\n",
        "ansargmax = NandriJesusans.argmax(axis=3)\n",
        "print('shape of ansargmax = ' + str(ansargmax.shape))\n",
        "\n",
        "print(' ansargmax = ' )\n",
        "print(ansargmax)\n",
        "\n",
        "\n",
        "\n",
        "reultmap = ansargmax.reshape(47,47)\n",
        "plt.imshow(reultmap)\n",
        "plt.show()\n",
        "\n",
        "asampleimageBIGshow = asampleimageBIG.reshape(121,121)\n",
        "plt.imshow(asampleimageBIGshow)\n",
        "plt.show()"
      ],
      "execution_count": 5,
      "outputs": [
        {
          "output_type": "stream",
          "text": [
            "shape of asampleimage = (28, 28, 1)\n",
            "shape of NandriJesusans = (1, 47, 47, 10)\n",
            "shape of ansargmax = (1, 47, 47)\n",
            " ansargmax = \n",
            "[[[9 9 4 ... 0 0 0]\n",
            "  [9 9 4 ... 0 0 0]\n",
            "  [0 7 1 ... 0 0 0]\n",
            "  ...\n",
            "  [0 0 0 ... 0 0 0]\n",
            "  [0 0 0 ... 0 0 0]\n",
            "  [0 0 0 ... 0 0 0]]]\n"
          ],
          "name": "stdout"
        },
        {
          "output_type": "display_data",
          "data": {
            "image/png": "[encoded data removed]",
            "text/plain": [
              "<matplotlib.figure.Figure at 0x7f61a6e6d438>"
            ]
          },
          "metadata": {
            "tags": []
          }
        },
        {
          "output_type": "display_data",
          "data": {
            "image/png": "[encoded data removed]",
            "text/plain": [
              "<matplotlib.figure.Figure at 0x7f61a6dbe2e8>"
            ]
          },
          "metadata": {
            "tags": []
          }
        }
      ]
    }
  ]
}